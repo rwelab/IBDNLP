{
 "cells": [
  {
   "cell_type": "code",
   "execution_count": 5,
   "metadata": {},
   "outputs": [],
   "source": [
    "from functions.primary_pipeline import *\n",
    "from time import ctime\n",
    "from tqdm import tqdm"
   ]
  },
  {
   "cell_type": "code",
   "execution_count": 2,
   "metadata": {},
   "outputs": [
    {
     "name": "stdout",
     "output_type": "stream",
     "text": [
      "Mon Sep 11 20:07:59 2023\n"
     ]
    }
   ],
   "source": [
    "time1 = ctime()\n",
    "print(ctime())"
   ]
  },
  {
   "cell_type": "code",
   "execution_count": 3,
   "metadata": {},
   "outputs": [],
   "source": [
    "# ### Import IBD Notes Dataframe ###\n",
    "\n",
    "IBD_notes = pd.read_csv('M:Conner/Sayuma tsv/IBD_notes_2021_03_03.tsv', delimiter = '\\t')\n"
   ]
  },
  {
   "cell_type": "code",
   "execution_count": 4,
   "metadata": {},
   "outputs": [],
   "source": [
    "#searches through IBD_notes df to detect if note is a Nutrition Services Note\n",
    "\n",
    "NS_search = IBD_notes['note'].apply(lambda x: Nutrition_services(x))\n",
    "#creates an updated df w/o Nutrition Services notes\n",
    "IBD_Fecal_Blood = IBD_notes.drop(NS_search[NS_search == 1].index).reset_index(drop = True)\n"
   ]
  },
  {
   "cell_type": "code",
   "execution_count": 5,
   "metadata": {},
   "outputs": [],
   "source": [
    "# ### Detect HPI/ROS Questionnaire Presence ###\n",
    "\n",
    "\n",
    "#creates column of HPI/ROS questionnaire Presence\n",
    "IBD_Fecal_Blood['HPI/ROS Presence'] = IBD_Fecal_Blood['note'].apply(lambda x : search_ROS(x))\n",
    "\n",
    "\n",
    "#creates column of HPI/ROS questionnaire date\n",
    "IBD_Fecal_Blood['ROS_date'] = IBD_Fecal_Blood['note'].apply(lambda x : get_ROS_date(x))\n",
    "\n"
   ]
  },
  {
   "cell_type": "code",
   "execution_count": 6,
   "metadata": {},
   "outputs": [],
   "source": [
    "# converts ROS_dates and deid service dates to datetime format:\n",
    "IBD_Fecal_Blood['ROS_date'] = pd.to_datetime(IBD_Fecal_Blood['ROS_date'])\n",
    "IBD_Fecal_Blood['deid_service_date_cdw'] = pd.to_datetime(IBD_Fecal_Blood['deid_service_date_cdw'])\n"
   ]
  },
  {
   "cell_type": "code",
   "execution_count": 7,
   "metadata": {},
   "outputs": [],
   "source": [
    "ROS_days_between = []\n",
    "# calculates the difference between ROS date and service date, NA rows appended to value 999\n",
    "for i in range(len(IBD_Fecal_Blood['ROS_date'])):\n",
    "    if IBD_Fecal_Blood['ROS_date'].iloc[i] is not pd.NaT:\n",
    "        days_between = IBD_Fecal_Blood['deid_service_date_cdw'].iloc[i] - IBD_Fecal_Blood['ROS_date'].iloc[i]\n",
    "        ROS_days_between.append(days_between.days)\n",
    "    else:\n",
    "        ROS_days_between.append(999)"
   ]
  },
  {
   "cell_type": "code",
   "execution_count": 8,
   "metadata": {},
   "outputs": [],
   "source": [
    "# ### Create List of Valid ROS questionaire ###\n",
    "\n",
    "#creates array of True/False values corresponding to whether or not ROS is valid and present\n",
    "ROS_valid = []\n",
    "for delta in ROS_days_between:\n",
    "    ROS_valid.append(valid_ROS(delta))\n",
    "    \n",
    "    \n",
    "IBD_Fecal_Blood['ROS_Valid'] = ROS_valid\n"
   ]
  },
  {
   "cell_type": "code",
   "execution_count": 9,
   "metadata": {},
   "outputs": [],
   "source": [
    "# ### Grabbing Fecal Blood Input from Valid ROS Questionaires ###\n",
    "\n",
    "\n",
    "# grab all note id's which correspond to valid ROS\n",
    "Valid_note_ids = IBD_Fecal_Blood[IBD_Fecal_Blood['ROS_Valid'] == True]['deid_note_id']\n",
    "\n"
   ]
  },
  {
   "cell_type": "code",
   "execution_count": 10,
   "metadata": {},
   "outputs": [
    {
     "name": "stderr",
     "output_type": "stream",
     "text": [
      "100%|████████████████████████████████| 1542/1542 [10:59<00:00,  2.34it/s]\n"
     ]
    }
   ],
   "source": [
    "ROS_answers = {}\n",
    "count = 0\n",
    "for ids in tqdm(Valid_note_ids):\n",
    "    count += 1 \n",
    "    #print(count)\n",
    "    index = IBD_Fecal_Blood[IBD_Fecal_Blood['deid_note_id'] == ids].index.values[0]\n",
    "    ROS_answers[ids] = get_fecal_answer(IBD_Fecal_Blood['note'][index])"
   ]
  },
  {
   "cell_type": "code",
   "execution_count": 11,
   "metadata": {},
   "outputs": [],
   "source": [
    "\n",
    "# create a list of indexes for ROS where the parser did not find an answer to the blood in stool question\n",
    "None_list = []\n",
    "ROS_keys = ROS_answers.keys()\n",
    "\n",
    "for ids in ROS_keys:\n",
    "    if ROS_answers[ids] == None:\n",
    "        # deletes dictionary none value\n",
    "        ROS_answers = removekey(ROS_answers, ids)\n",
    "        \n",
    "# ### Making Fecal_Blood_Value Column ####\n",
    "\n",
    "\n",
    "shape = (len(IBD_Fecal_Blood), 1)\n",
    "IBD_Fecal_Blood['Fecal_Blood_Value'] = np.ones(shape)\n",
    "\n",
    "# ### Adding ROS/HPI Answers to Fecal_Blood_Value Column ###\n",
    "\n",
    "for key in ROS_answers.keys():\n",
    "    index = get_index(key, IBD_Fecal_Blood)\n",
    "    IBD_Fecal_Blood.loc[index, 'Fecal_Blood_Value'] = ROS_answers[key]"
   ]
  },
  {
   "cell_type": "code",
   "execution_count": 12,
   "metadata": {},
   "outputs": [
    {
     "data": {
      "text/plain": [
       "Index(['Unnamed: 0', '_id', 'deid_PatientDurableKey', 'deid_note_key',\n",
       "       'deid_note_id', 'note_type', 'deid_encounter_id_cdw',\n",
       "       'deid_EncounterKey', 'enc_dept_specialty', 'prov_specialty',\n",
       "       'deid_service_date_cdw', 'note', 'DateKeyValue', 'BirthDate', 'Age',\n",
       "       'crohns', 'ulc_colitis', 'HPI/ROS Presence', 'ROS_date', 'ROS_Valid',\n",
       "       'Fecal_Blood_Value'],\n",
       "      dtype='object')"
      ]
     },
     "execution_count": 12,
     "metadata": {},
     "output_type": "execute_result"
    }
   ],
   "source": [
    "IBD_Fecal_Blood.columns"
   ]
  },
  {
   "cell_type": "code",
   "execution_count": 13,
   "metadata": {},
   "outputs": [],
   "source": [
    "# ### Create HPI Column ###\n",
    "\n",
    "\n",
    "#apply HPI extraction to each note\n",
    "IBD_Fecal_Blood[['extracted_HPI', 'HPI_extraction_offset']] = IBD_Fecal_Blood.apply(lambda x : extract_HPI(x['note']), axis = 1 , result_type = 'expand')\n",
    "\n",
    "IBD_Fecal_Blood['HPI'] = IBD_Fecal_Blood['extracted_HPI'].apply(lambda x : clean_tail(x))\n"
   ]
  },
  {
   "cell_type": "code",
   "execution_count": 14,
   "metadata": {},
   "outputs": [],
   "source": [
    "# ### Remove Rows which Failed HPI Extraction ###\n",
    "\n",
    "\n",
    "# converts every None value in HPI column to 1 for the purposes of removal\n",
    "for index, row in enumerate(IBD_Fecal_Blood['HPI']):\n",
    "    if row is None:\n",
    "        IBD_Fecal_Blood.loc[index, 'HPI'] = 1"
   ]
  },
  {
   "cell_type": "code",
   "execution_count": 15,
   "metadata": {},
   "outputs": [],
   "source": [
    "# ### Find Interval History ###\n",
    "\n",
    "IBD_Fecal_Blood['Interval_History'] = IBD_Fecal_Blood.apply(lambda x: find_IntervalHistory2(x['HPI'], \n",
    "                                                                                            x['HPI_extraction_offset']), axis=1)"
   ]
  },
  {
   "cell_type": "code",
   "execution_count": 16,
   "metadata": {},
   "outputs": [],
   "source": [
    "# ### Create Previous Note ID Column ###\n",
    "\n",
    "\n",
    "# create a previous note id column for all remaining rows\n",
    "IBD_Fecal_Blood['Previous_note_id'] = IBD_Fecal_Blood.apply(lambda x : find_previous_note(x['deid_note_id'], IBD_Fecal_Blood), axis = 1)\n",
    "\n",
    "IBD_Fecal_Blood.to_json('data/ibd_notes.json')"
   ]
  },
  {
   "cell_type": "code",
   "execution_count": 17,
   "metadata": {},
   "outputs": [],
   "source": [
    "# ### Preparing Dataframes for Previous Note Comparison ###\n",
    "\n",
    "\n",
    "Previous_Note_df = IBD_Fecal_Blood[['HPI','HPI_extraction_offset', 'deid_PatientDurableKey', 'deid_note_id', 'Previous_note_id']]\n",
    "\n",
    "\n",
    "Previous_Note_df = Previous_Note_df[Previous_Note_df['Previous_note_id'] != 1]"
   ]
  },
  {
   "cell_type": "code",
   "execution_count": 6,
   "metadata": {},
   "outputs": [
    {
     "name": "stderr",
     "output_type": "stream",
     "text": [
      "C:\\tools\\Anaconda3\\lib\\site-packages\\tqdm\\std.py:701: FutureWarning: The Panel class is removed from pandas. Accessing it from the top-level namespace will also be removed in the next version\n",
      "  from pandas import Panel\n"
     ]
    }
   ],
   "source": [
    "from functions.prev_note_pipeline import *\n",
    "tqdm.pandas()"
   ]
  },
  {
   "cell_type": "code",
   "execution_count": 19,
   "metadata": {
    "tags": []
   },
   "outputs": [
    {
     "name": "stderr",
     "output_type": "stream",
     "text": [
      "2023-09-11 20:26:50 INFO: Checking for updates to resources.json in case models have been updated.  Note: this behavior can be turned off with download_method=None or download_method=DownloadMethod.REUSE_RESOURCES\n"
     ]
    },
    {
     "data": {
      "application/vnd.jupyter.widget-view+json": {
       "model_id": "c8e7119807604be5bbfd88bca895d4c5",
       "version_major": 2,
       "version_minor": 0
      },
      "text/plain": [
       "Downloading https://raw.githubusercontent.com/stanfordnlp/stanza-resources/main/resources_1.5.0.json:   0%|   …"
      ]
     },
     "metadata": {},
     "output_type": "display_data"
    },
    {
     "name": "stderr",
     "output_type": "stream",
     "text": [
      "2023-09-11 20:26:55 INFO: Loading these models for language: en (English):\n",
      "============================\n",
      "| Processor    | Package   |\n",
      "----------------------------\n",
      "| tokenize     | combined  |\n",
      "| pos          | combined  |\n",
      "| lemma        | combined  |\n",
      "| constituency | wsj       |\n",
      "| depparse     | combined  |\n",
      "| sentiment    | sstplus   |\n",
      "| ner          | ontonotes |\n",
      "============================\n",
      "\n",
      "2023-09-11 20:26:55 INFO: Using device: cpu\n",
      "2023-09-11 20:26:55 INFO: Loading: tokenize\n",
      "2023-09-11 20:26:55 INFO: Loading: pos\n",
      "2023-09-11 20:26:57 INFO: Loading: lemma\n",
      "2023-09-11 20:26:57 INFO: Loading: constituency\n",
      "2023-09-11 20:26:58 INFO: Loading: depparse\n",
      "2023-09-11 20:27:00 INFO: Loading: sentiment\n",
      "2023-09-11 20:27:02 INFO: Loading: ner\n",
      "2023-09-11 20:27:04 INFO: Done loading processors!\n"
     ]
    }
   ],
   "source": [
    "nlpstan = stanza.Pipeline(\"en\")\n",
    "\n",
    "nlp = spacy.load(\"en_core_web_sm\")"
   ]
  },
  {
   "cell_type": "code",
   "execution_count": 20,
   "metadata": {},
   "outputs": [],
   "source": [
    "Previous_note = Previous_Note_df[\n",
    "    [\"deid_note_id\", \"Previous_note_id\", \"HPI_extraction_offset\"]\n",
    "]"
   ]
  },
  {
   "cell_type": "code",
   "execution_count": 21,
   "metadata": {},
   "outputs": [
    {
     "name": "stderr",
     "output_type": "stream",
     "text": [
      "C:\\tools\\Anaconda3\\lib\\site-packages\\ipykernel_launcher.py:5: SettingWithCopyWarning: \n",
      "A value is trying to be set on a copy of a slice from a DataFrame.\n",
      "Try using .loc[row_indexer,col_indexer] = value instead\n",
      "\n",
      "See the caveats in the documentation: https://pandas.pydata.org/pandas-docs/stable/user_guide/indexing.html#returning-a-view-versus-a-copy\n",
      "  \"\"\"\n"
     ]
    }
   ],
   "source": [
    "# ### Get HPI from each note\n",
    "\n",
    "# creates two columns current_HPI and previous_HPI\n",
    "Previous_note[\"current_HPI\"] = Previous_note[\"deid_note_id\"].apply(\n",
    "    lambda x: get_HPI(IBD_Fecal_Blood, x)\n",
    ")\n",
    "Previous_note[\"previous_HPI\"] = Previous_note[\"Previous_note_id\"].apply(\n",
    "    lambda x: get_HPI(IBD_Fecal_Blood, x)\n",
    ")\n",
    "\n",
    "Previous_note[\"note\"] = Previous_note[\"deid_note_id\"].apply(lambda x: get_note(x, IBD_Fecal_Blood))\n"
   ]
  },
  {
   "cell_type": "code",
   "execution_count": 22,
   "metadata": {},
   "outputs": [
    {
     "name": "stderr",
     "output_type": "stream",
     "text": [
      "100%|████████████████████████████████| 4138/4138 [20:56<00:00,  3.29it/s]\n"
     ]
    }
   ],
   "source": [
    "# ### Applying Previous Note Extraction to each Note ###\n",
    "\n",
    "Previous_note[[\"addition_ranges\", \"additions\"]] = Previous_note.progress_apply(\n",
    "    lambda x: find_additions(\n",
    "        nlp, x[\"current_HPI\"], x[\"previous_HPI\"], x[\"HPI_extraction_offset\"], x[\"note\"]\n",
    "    )\n",
    "    if x[\"current_HPI\"] != 1\n",
    "    else np.nan,\n",
    "    axis=1,\n",
    "    result_type=\"expand\",\n",
    ")"
   ]
  },
  {
   "cell_type": "code",
   "execution_count": 23,
   "metadata": {},
   "outputs": [],
   "source": [
    "Previous_note.to_json('data/previous_note.json')"
   ]
  },
  {
   "cell_type": "code",
   "execution_count": 24,
   "metadata": {},
   "outputs": [],
   "source": [
    "# ### Compile Dataframes ###\n",
    "IBD_Fecal_Blood = pd.read_json('data/ibd_notes.json')\n",
    "Previous_note = pd.read_json('data/previous_note.json')\n",
    "\n",
    "#create an empty additions column\n",
    "shape = (len(IBD_Fecal_Blood), 1)\n",
    "IBD_Fecal_Blood['additions'] = np.ones(shape)\n",
    "\n",
    "\n",
    "note_ids = Previous_note['deid_note_id']\n",
    "notes = Previous_note['additions']\n",
    "\n",
    "#gets a list of indices from note ids \n",
    "note_ids_index = note_ids.apply(lambda x : get_index(x, IBD_Fecal_Blood))\n",
    "\n",
    "for index, note_index in enumerate(note_ids_index):\n",
    "    IBD_Fecal_Blood.loc[note_index, 'additions'] = notes.iloc[index]"
   ]
  },
  {
   "cell_type": "code",
   "execution_count": 25,
   "metadata": {
    "tags": []
   },
   "outputs": [],
   "source": [
    "# ### Apply 'Current' Extraction to IBD_Fecal_Blood ###\n",
    "\n",
    "\n",
    "IBD_Fecal_Blood['Current_Extract'] = IBD_Fecal_Blood['HPI'].apply(lambda x : find_Today(x) if type(x) == str else 1)\n"
   ]
  },
  {
   "cell_type": "code",
   "execution_count": 26,
   "metadata": {},
   "outputs": [],
   "source": [
    "# ### Applying Find_Blood Function ###\n",
    "\n",
    "\n",
    "# applies find_Blood function to Interval History sections\n",
    "Blood_Indicator_Interval_History = IBD_Fecal_Blood['Interval_History'].apply(lambda x : find_Blood(x) if x != 1 else 1)\n",
    "\n",
    "# applies find_Blood function to HPI sections\n",
    "Blood_Indicator_HPI = IBD_Fecal_Blood['HPI'].apply(lambda x : find_Blood(x) if x != 1 else 1)\n",
    "\n",
    "\n",
    "#applies find_Blood function to Addition section\n",
    "Blood_Indicator_Additions = IBD_Fecal_Blood['additions'].apply(lambda x : find_Blood(x) if x != 1 else 1)\n",
    "\n",
    "#creates list of note Ids\n",
    "Note_Ids = IBD_Fecal_Blood['deid_note_id']\n"
   ]
  },
  {
   "cell_type": "code",
   "execution_count": 27,
   "metadata": {},
   "outputs": [],
   "source": [
    "# ### Make Blood_Indicator Dataframe ###\n",
    "\n",
    "\n",
    "Blood_Indicator_zip = list(zip(Note_Ids, IBD_Fecal_Blood['HPI'], \n",
    "                               IBD_Fecal_Blood['Interval_History'], \n",
    "                               IBD_Fecal_Blood['additions'], \n",
    "                               Blood_Indicator_Interval_History,\n",
    "                               Blood_Indicator_Additions, \n",
    "                               IBD_Fecal_Blood['Fecal_Blood_Value'],\n",
    "                               Blood_Indicator_HPI))\n",
    "\n",
    "\n",
    "Blood_Indicator_df = pd.DataFrame(Blood_Indicator_zip, columns = ['deid_note_id', 'HPI','Interval_History',\n",
    "                                                                  'Additions', 'Blood_Indicator_Interval', \n",
    "                                                                  'Blood_Indicator_Addition', 'Fecal_Blood_Value',\n",
    "                                                                  'Blood_Indicator_HPI'])\n"
   ]
  },
  {
   "cell_type": "code",
   "execution_count": 28,
   "metadata": {},
   "outputs": [],
   "source": [
    "from functions.blood_pipeline import *\n",
    "# from functions.diarrhea_pipeline import *"
   ]
  },
  {
   "cell_type": "code",
   "execution_count": 29,
   "metadata": {},
   "outputs": [],
   "source": [
    "nlp_abdominal = return_abdominal_spacy()\n",
    "nlp_abdominal = add_pipe(nlp_abdominal)"
   ]
  },
  {
   "cell_type": "code",
   "execution_count": 30,
   "metadata": {},
   "outputs": [
    {
     "name": "stderr",
     "output_type": "stream",
     "text": [
      "100%|██████████████████████████████| 7533/7533 [00:02<00:00, 3175.62it/s]\n",
      "100%|████████████████████████████████| 7533/7533 [29:15<00:00,  4.29it/s]\n",
      "100%|██████████████████████████████| 7533/7533 [00:01<00:00, 3775.63it/s]\n",
      "100%|██████████████████████████████| 7533/7533 [00:02<00:00, 3618.10it/s]\n"
     ]
    }
   ],
   "source": [
    "IBD_Fecal_Blood[['blood_mentions', \n",
    "                 'blood_mention_keyword', \n",
    "                 'blood_spans']] = IBD_Fecal_Blood.progress_apply(lambda x : find_blood( x['Interval_History'] ),\n",
    "                                                                  axis = 1, result_type = 'expand')\n",
    "\n",
    "IBD_Fecal_Blood[['pain_mentions', \n",
    "                 'pain_mention_keyword', \n",
    "                 'pain_spans']] = IBD_Fecal_Blood.progress_apply(lambda x : find_pain(x['Interval_History'], nlp_abdominal), \n",
    "                                                                 axis = 1, result_type = 'expand')\n",
    "\n",
    "IBD_Fecal_Blood[['cr_mentions',\n",
    "                 'cr_mention_keyword',\n",
    "                 'cr_spans']] = IBD_Fecal_Blood.progress_apply(lambda x : find_clinical_remission(x['Interval_History']),\n",
    "                                                               axis = 1, result_type = 'expand')\n",
    "\n",
    "IBD_Fecal_Blood[['well_mentions',\n",
    "                 'well_mention_keyword',\n",
    "                 'well_spans']] = IBD_Fecal_Blood.progress_apply(lambda x : find_no_symptoms(x['Interval_History']),\n",
    "                                                                 axis = 1, result_type = 'expand')"
   ]
  },
  {
   "cell_type": "code",
   "execution_count": 31,
   "metadata": {},
   "outputs": [
    {
     "name": "stderr",
     "output_type": "stream",
     "text": [
      "100%|█████████████████████████████| 7533/7533 [00:00<00:00, 20569.74it/s]\n",
      "100%|█████████████████████████████| 7533/7533 [00:00<00:00, 13563.79it/s]\n",
      "100%|█████████████████████████████| 7533/7533 [00:00<00:00, 16251.08it/s]\n",
      "100%|█████████████████████████████| 7533/7533 [00:00<00:00, 16009.44it/s]\n"
     ]
    }
   ],
   "source": [
    "IBD_Fecal_Blood['Fecal_Blood_Present'] = IBD_Fecal_Blood.progress_apply(lambda x : get_tense_negation(x['blood_mentions'], \n",
    "                                                                                                      'BLOOD', \n",
    "                                                                                                      nlp_abdominal, \n",
    "                                                                                                      x['deid_note_id']), axis = 1 )\n",
    "\n",
    "IBD_Fecal_Blood['Pain_Present'] = IBD_Fecal_Blood.progress_apply(lambda x : get_tense_negation(x['pain_mentions'], \n",
    "                                                                                               'PAIN', \n",
    "                                                                                               nlp_abdominal,  \n",
    "                                                                                               x['deid_note_id']), axis = 1 ) \n",
    "\n",
    "IBD_Fecal_Blood['CR_Present'] = IBD_Fecal_Blood.progress_apply(lambda x : get_tense_negation(x['cr_mentions'], \n",
    "                                                                                             'Clin_Rem', \n",
    "                                                                                             nlp_abdominal, \n",
    "                                                                                             x['deid_note_id']), axis = 1 )\n",
    "\n",
    "IBD_Fecal_Blood['Well_Present'] = IBD_Fecal_Blood.progress_apply(lambda x : get_tense_negation(x['well_mentions'], \n",
    "                                                                                               'WELL', \n",
    "                                                                                               nlp_abdominal, \n",
    "                                                                                               x['deid_note_id']), axis = 1 ) \n",
    "\n"
   ]
  },
  {
   "cell_type": "code",
   "execution_count": 32,
   "metadata": {},
   "outputs": [
    {
     "name": "stderr",
     "output_type": "stream",
     "text": [
      "100%|████████████████████████████████| 4138/4138 [02:25<00:00, 28.43it/s]\n",
      "100%|████████████████████████████████| 4138/4138 [33:52<00:00,  2.04it/s]\n",
      "100%|████████████████████████████████| 4138/4138 [01:07<00:00, 60.95it/s]\n",
      "100%|████████████████████████████████| 4138/4138 [02:21<00:00, 29.23it/s]\n",
      "100%|████████████████████████████████| 4138/4138 [14:27<00:00,  4.77it/s]\n",
      "100%|████████████████████████████████| 4138/4138 [05:18<00:00, 13.01it/s]\n",
      "100%|███████████████████████████████| 4138/4138 [00:27<00:00, 149.47it/s]\n",
      "100%|████████████████████████████████| 4138/4138 [01:50<00:00, 37.51it/s]\n"
     ]
    }
   ],
   "source": [
    "# ### Apply Blood Mention Extraction to Previous_Note Extraction ###\n",
    "\n",
    "Previous_note['additions'] = Previous_note['additions'].apply(lambda x : convert_list_string(x))\n",
    "\n",
    "Previous_note[['blood_mentions', \n",
    "               'blood_mention_keyword', \n",
    "               'blood_spans']] = Previous_note.progress_apply(lambda x : find_blood(x['additions']), \n",
    "                                                              axis = 1, result_type = 'expand')\n",
    "\n",
    "Previous_note[['pain_mentions', \n",
    "               'pain_mention_keyword', \n",
    "               'pain_spans']] = Previous_note.progress_apply(lambda x : find_pain(x['additions'], nlp_abdominal), \n",
    "                                                             axis = 1, result_type = 'expand')\n",
    "\n",
    "Previous_note[['cr_mentions', \n",
    "               'cr_mention_keyword', \n",
    "               'cr_spans']] = Previous_note.progress_apply(lambda x : find_clinical_remission(x['additions']), \n",
    "                                                           axis = 1, result_type = 'expand')\n",
    "\n",
    "Previous_note[['well_mentions', \n",
    "               'well_mention_keyword', \n",
    "               'well_spans']] = Previous_note.progress_apply(lambda x : find_no_symptoms(x['additions']), \n",
    "                                                             axis = 1, result_type = 'expand')\n",
    "\n",
    "Previous_note['Fecal_Blood_Present'] =  Previous_note.progress_apply(lambda x : get_tense_negation(x['blood_mentions'], \n",
    "                                                                                                   'BLOOD',\n",
    "                                                                                                   nlp_abdominal, \n",
    "                                                                                                   x['deid_note_id']), axis = 1 )\n",
    "\n",
    "Previous_note['Pain_Present'] = Previous_note.progress_apply(lambda x : get_tense_negation(x['pain_mentions'], \n",
    "                                                                                           'PAIN', nlp_abdominal,\n",
    "                                                                                           x['deid_note_id']), axis = 1 )\n",
    "\n",
    "Previous_note['CR_Present'] = Previous_note.progress_apply(lambda x : get_tense_negation(x['cr_mentions'], \n",
    "                                                                                         'Clin_Rem', nlp_abdominal,\n",
    "                                                                                         x['deid_note_id']), axis = 1 )\n",
    "\n",
    "Previous_note['Well_Present'] = Previous_note.progress_apply(lambda x : get_tense_negation(x['well_mentions'], \n",
    "                                                                                           'WELL', \n",
    "                                                                                           nlp_abdominal,\n",
    "                                                                                           x['deid_note_id']), axis = 1 )\n",
    "\n",
    "IBD_Fecal_Blood['Fecal_Blood_Value'] = IBD_Fecal_Blood['Fecal_Blood_Value'].apply(lambda x : encode(x))\n",
    "\n",
    "IBD_Fecal_Blood['Previous_note_id'] = IBD_Fecal_Blood.apply(lambda x : find_previous_note(x['deid_note_id'], \n",
    "                                                                                          IBD_Fecal_Blood), axis = 1)\n"
   ]
  },
  {
   "cell_type": "code",
   "execution_count": 33,
   "metadata": {},
   "outputs": [],
   "source": [
    "# ### Make Blank Columns ###\n",
    "\n",
    "#IBD_Fecal_Blood['blood_mention_c_takes'] = np.nan\n",
    "IBD_Fecal_Blood['blood_mention_Previous_note'] = np.nan\n",
    "IBD_Fecal_Blood['blood_mention_Interval_History'] = np.nan\n",
    "IBD_Fecal_Blood['pain_mention_Previous_note'] = np.nan\n",
    "IBD_Fecal_Blood['pain_mention_Interval_History'] = np.nan\n",
    "IBD_Fecal_Blood['cr_mention_Previous_note'] = np.nan\n",
    "IBD_Fecal_Blood['cr_mention_Interval_History'] = np.nan\n",
    "IBD_Fecal_Blood['well_mention_Previous_note'] = np.nan\n",
    "IBD_Fecal_Blood['well_mention_Interval_History'] = np.nan\n",
    "\n",
    "# ### Encode Each Column ###\n",
    "encode_column(IBD_Fecal_Blood, Previous_note, 'Fecal_Blood_Present', 'blood_mention_Previous_note', False)\n",
    "encode_column(IBD_Fecal_Blood, Previous_note, 'Pain_Present', 'pain_mention_Previous_note', False)\n",
    "encode_column(IBD_Fecal_Blood, Previous_note, 'CR_Present', 'cr_mention_Previous_note', False)\n",
    "encode_column(IBD_Fecal_Blood, Previous_note, 'Well_Present', 'well_mention_Previous_note', False)\n",
    "encode_column(IBD_Fecal_Blood, IBD_Fecal_Blood, 'Fecal_Blood_Present', 'blood_mention_Interval_History', True)\n",
    "encode_column(IBD_Fecal_Blood, IBD_Fecal_Blood, 'Pain_Present', 'pain_mention_Interval_History', True)\n",
    "encode_column(IBD_Fecal_Blood, IBD_Fecal_Blood, 'CR_Present', 'cr_mention_Interval_History', True)\n",
    "encode_column(IBD_Fecal_Blood, IBD_Fecal_Blood, 'Well_Present', 'well_mention_Interval_History', True)"
   ]
  },
  {
   "cell_type": "code",
   "execution_count": 34,
   "metadata": {},
   "outputs": [],
   "source": [
    "IBD_Fecal_Blood['HPI_range'] = IBD_Fecal_Blood.apply(lambda x : get_range(x['HPI_extraction_offset'], \n",
    "                                                                          x['HPI']) if x['HPI'] != 1 else 1, axis = 1)\n",
    "\n",
    "# ### Applying Blood Mention Extraction to Remaining Notes ###\n",
    "IBD_Fecal_Blood['Interval_History'] = IBD_Fecal_Blood['Interval_History'].apply(lambda x : x if x != 1 else np.nan)\n",
    "\n",
    "#capture remaining notes\n",
    "remaining_notes = IBD_Fecal_Blood[IBD_Fecal_Blood['Interval_History'].isna()]\n",
    "remaining_notes = remaining_notes[remaining_notes['Previous_note_id'].isna()]\n",
    "remaining_notes = remaining_notes[remaining_notes['Fecal_Blood_Value'].isna()] \n",
    "\n",
    "remaining_notes_pain = IBD_Fecal_Blood[IBD_Fecal_Blood['Interval_History'].isna()]\n",
    "remaining_notes_pain = remaining_notes_pain[remaining_notes_pain['Previous_note_id'].isna()]"
   ]
  },
  {
   "cell_type": "code",
   "execution_count": 35,
   "metadata": {},
   "outputs": [
    {
     "name": "stderr",
     "output_type": "stream",
     "text": [
      "100%|██████████████████████████████| 7533/7533 [00:02<00:00, 2909.14it/s]\n",
      "100%|██████████████████████████████| 7533/7533 [1:10:05<00:00,  1.79it/s]\n",
      "100%|██████████████████████████████| 7533/7533 [00:02<00:00, 2558.20it/s]\n",
      "100%|████████████████████████████████| 7533/7533 [02:31<00:00, 49.79it/s]\n",
      "100%|██████████████████████████████| 7533/7533 [00:02<00:00, 3087.72it/s]\n",
      "100%|████████████████████████████████| 7533/7533 [04:37<00:00, 27.13it/s]\n",
      "100%|██████████████████████████████| 7533/7533 [00:02<00:00, 3179.23it/s]\n",
      "100%|████████████████████████████████| 7533/7533 [10:33<00:00, 11.89it/s]\n",
      "100%|████████████████████████████████| 7533/7533 [29:34<00:00,  4.25it/s]\n",
      "100%|████████████████████████████████| 7533/7533 [09:53<00:00, 12.68it/s]\n",
      "100%|█████████████████████████████| 7533/7533 [00:00<00:00, 20554.84it/s]\n",
      "100%|█████████████████████████████| 7533/7533 [00:00<00:00, 19737.77it/s]\n"
     ]
    }
   ],
   "source": [
    "# #### Blood Mention Extraction Remaining Notes #####\n",
    "\n",
    "IBD_Fecal_Blood[['blood_mentions_HPI', \n",
    "                 'blood_mentions_remaining_keywords', \n",
    "                 'blood_spans']] = IBD_Fecal_Blood.apply(lambda x : find_blood(x['HPI']), result_type = 'expand', axis = 1  )\n",
    "\n",
    "IBD_Fecal_Blood[['blood_mentions_HPI', \n",
    "                 'blood_mentions_remaining_keywords']] = IBD_Fecal_Blood.progress_apply(lambda x : get_mention_location(x['HPI'],\n",
    "                                                                                                                        x['blood_mentions_HPI'],\n",
    "                                                                                                                        x['blood_spans'], \n",
    "                                                                                                                        x['blood_mentions_remaining_keywords']),\n",
    "                                                                                        result_type = 'expand', axis = 1 )\n",
    "\n",
    "IBD_Fecal_Blood[['pain_mentions_HPI', \n",
    "                 'pain_mentions_remaining_keywords', \n",
    "                 'pain_spans']] = IBD_Fecal_Blood.progress_apply(lambda x : find_pain(x['HPI'], nlp_abdominal), \n",
    "                                                                 result_type = 'expand', axis = 1  )\n",
    "\n",
    "IBD_Fecal_Blood[['pain_mentions_HPI_location', \n",
    "                 'pain_mentions_remaining_keywords']] = IBD_Fecal_Blood.progress_apply(lambda x : get_mention_location(x['HPI'], \n",
    "                                                                                                                       x['pain_mentions_HPI'], \n",
    "                                                                                                                       x['pain_spans'], \n",
    "                                                                                                                       x['pain_mentions_remaining_keywords']), \n",
    "                                                                                       result_type = 'expand', axis = 1 )\n",
    "\n",
    "IBD_Fecal_Blood[['cr_mentions_HPI', \n",
    "                 'cr_mention_keyword',\n",
    "                 'cr_spans']] = IBD_Fecal_Blood.progress_apply(lambda x : find_clinical_remission(x['HPI']), \n",
    "                                                               axis = 1, result_type = 'expand')\n",
    "\n",
    "IBD_Fecal_Blood[['cr_mentions_HPI_location', \n",
    "                 'cr_mention_keyword']] = IBD_Fecal_Blood.progress_apply(lambda x : get_mention_location(x['HPI'],\n",
    "                                                                                                         x['cr_mentions'], \n",
    "                                                                                                         x['cr_spans'], \n",
    "                                                                                                         x['cr_mention_keyword']),\n",
    "                                                                         axis = 1, result_type = 'expand')\n",
    "\n",
    "IBD_Fecal_Blood[['well_mentions_HPI',\n",
    "                 'well_mention_keyword',\n",
    "                 'well_spans']] = IBD_Fecal_Blood.progress_apply(lambda x : find_no_symptoms(x['HPI']), \n",
    "                                                                 axis = 1, result_type = 'expand')\n",
    "\n",
    "IBD_Fecal_Blood[['well_mentions_HPI_location', \n",
    "                 'well_mention_keyword']] = IBD_Fecal_Blood.progress_apply(lambda x : get_mention_location(x['HPI'], \n",
    "                                                                                                           x['well_mentions'],\n",
    "                                                                                                           x['well_spans'], \n",
    "                                                                                                           x['well_mention_keyword']),\n",
    "                                                                           axis = 1, result_type = 'expand')\n",
    "\n",
    "IBD_Fecal_Blood['Pain_Present_Remaining'] = IBD_Fecal_Blood.progress_apply(lambda x : get_tense_negation(x['pain_mentions_HPI'], \n",
    "                                                                                                        'PAIN', \n",
    "                                                                                                        nlp_abdominal, \n",
    "                                                                                                        x['deid_note_id']), axis = 1)\n",
    "\n",
    "IBD_Fecal_Blood['Fecal_Blood_Present_HPI'] = IBD_Fecal_Blood.progress_apply(lambda x : get_tense_negation(x['blood_mentions_HPI'],\n",
    "                                                                                                          'BLOOD', \n",
    "                                                                                                          nlp_abdominal, \n",
    "                                                                                                          x['deid_note_id']) if x['blood_mentions_HPI'] != 1 else np.nan, axis = 1)\n",
    "\n",
    "IBD_Fecal_Blood['Pain_Present_HPI'] = IBD_Fecal_Blood.progress_apply(lambda x : get_tense_negation(x['pain_mentions_HPI_location'], \n",
    "                                                                                                   'PAIN', \n",
    "                                                                                                   nlp_abdominal, \n",
    "                                                                                                   x['deid_note_id']), axis = 1)\n",
    "\n",
    "IBD_Fecal_Blood['CR_Present_HPI'] = IBD_Fecal_Blood.progress_apply(lambda x : get_tense_negation(x['cr_mentions_HPI_location'], \n",
    "                                                                                                 'Clin_Rem', \n",
    "                                                                                                 nlp_abdominal,\n",
    "                                                                                                 x['deid_note_id']), axis = 1)\n",
    "\n",
    "IBD_Fecal_Blood['Well_Present_HPI'] = IBD_Fecal_Blood.progress_apply(lambda x : get_tense_negation(x['well_mentions_HPI_location'], \n",
    "                                                                                                   'WELL',\n",
    "                                                                                                   nlp_abdominal, \n",
    "                                                                                                   x['deid_note_id']), axis = 1)"
   ]
  },
  {
   "cell_type": "code",
   "execution_count": 36,
   "metadata": {},
   "outputs": [],
   "source": [
    "# #### Encode Results ####\n",
    "IBD_Fecal_Blood['pain_mention_remaining_notes'] = np.nan\n",
    "IBD_Fecal_Blood['blood_mention_HPI'] = np.nan\n",
    "IBD_Fecal_Blood['pain_mention_HPI'] = np.nan\n",
    "IBD_Fecal_Blood['cr_mention_HPI'] = np.nan\n",
    "IBD_Fecal_Blood['well_mention_HPI'] = np.nan\n",
    "encode_column(IBD_Fecal_Blood, IBD_Fecal_Blood, 'Pain_Present_Remaining', 'pain_mention_remaining_notes', True)\n",
    "encode_column(IBD_Fecal_Blood, IBD_Fecal_Blood, 'Fecal_Blood_Present_HPI', 'blood_mention_HPI', True)\n",
    "encode_column(IBD_Fecal_Blood, IBD_Fecal_Blood, 'Pain_Present_HPI', 'pain_mention_HPI', True)\n",
    "encode_column(IBD_Fecal_Blood, IBD_Fecal_Blood, 'CR_Present_HPI', 'cr_mention_HPI', True)\n",
    "encode_column(IBD_Fecal_Blood, IBD_Fecal_Blood, 'Well_Present_HPI', 'well_mention_HPI', True)\n"
   ]
  },
  {
   "cell_type": "code",
   "execution_count": 37,
   "metadata": {},
   "outputs": [
    {
     "data": {
      "text/plain": [
       "[]"
      ]
     },
     "execution_count": 37,
     "metadata": {},
     "output_type": "execute_result"
    }
   ],
   "source": [
    "# ### Consolidate Each Blood Mention into a single Column ###\n",
    "IBD_Fecal_Blood['Fecal_Blood_Value_Master'] = np.nan\n",
    "IBD_Fecal_Blood['Pain_Value_Master'] = np.nan\n",
    "IBD_Fecal_Blood['Pain_ROS'] = np.nan\n",
    "IBD_Fecal_Blood['CR_Master'] = np.nan\n",
    "IBD_Fecal_Blood['CR_ROS'] = np.nan\n",
    "IBD_Fecal_Blood['Well_Master'] = np.nan\n",
    "IBD_Fecal_Blood['Well_ROS'] = np.nan\n",
    "\n",
    "\n",
    "consolidate_columns(row_names_blood, 'Fecal_Blood_Value_Master', IBD_Fecal_Blood)\n",
    "consolidate_columns(row_names, 'Pain_Value_Master', IBD_Fecal_Blood)\n",
    "consolidate_columns(rows_names_cr, 'CR_Master', IBD_Fecal_Blood)\n",
    "consolidate_columns(row_names_well, 'Well_Master', IBD_Fecal_Blood)\n"
   ]
  },
  {
   "cell_type": "code",
   "execution_count": 38,
   "metadata": {},
   "outputs": [
    {
     "name": "stdout",
     "output_type": "stream",
     "text": [
      "Start: Mon Sep 11 20:07:59 2023, End: Tue Sep 12 00:38:42 2023\n"
     ]
    }
   ],
   "source": [
    "print(f'Start: {time1}, End: {ctime()}')"
   ]
  },
  {
   "cell_type": "code",
   "execution_count": 39,
   "metadata": {},
   "outputs": [],
   "source": [
    "IBD_Fecal_Blood.to_json('data/abdominal_results.json')"
   ]
  },
  {
   "cell_type": "markdown",
   "metadata": {},
   "source": [
    "## Creating the Diarrhea Portion"
   ]
  },
  {
   "cell_type": "code",
   "execution_count": 1,
   "metadata": {},
   "outputs": [],
   "source": [
    "from functions.diarrhea_pipeline import *"
   ]
  },
  {
   "cell_type": "code",
   "execution_count": 2,
   "metadata": {},
   "outputs": [],
   "source": [
    "nlp_diarrhea = return_diarrhea_spacy()\n",
    "nlp_diarrhea = add_pipes(nlp_diarrhea)"
   ]
  },
  {
   "cell_type": "code",
   "execution_count": 3,
   "metadata": {},
   "outputs": [],
   "source": [
    "IBD_Fecal_Blood = pd.read_json('data/ibd_notes.json')\n",
    "Previous_note = pd.read_json('data/previous_note.json')"
   ]
  },
  {
   "cell_type": "code",
   "execution_count": 7,
   "metadata": {},
   "outputs": [
    {
     "name": "stderr",
     "output_type": "stream",
     "text": [
      "100%|██████████████████████████████| 7533/7533 [00:03<00:00, 2220.98it/s]\n",
      "100%|█████████████████████████████| 7533/7533 [00:00<00:00, 16492.10it/s]\n",
      "100%|██████████████████████████████| 7533/7533 [00:01<00:00, 3871.02it/s]\n",
      "100%|██████████████████████████████| 7533/7533 [00:02<00:00, 3348.26it/s]\n",
      "100%|█████████████████████████████| 7533/7533 [00:00<00:00, 25401.39it/s]\n",
      "100%|█████████████████████████████| 7533/7533 [00:00<00:00, 19994.86it/s]\n",
      "100%|█████████████████████████████| 7533/7533 [00:00<00:00, 12747.98it/s]\n",
      "100%|█████████████████████████████| 7533/7533 [00:00<00:00, 19138.42it/s]\n",
      "100%|█████████████████████████████| 7533/7533 [00:00<00:00, 18450.86it/s]\n"
     ]
    }
   ],
   "source": [
    "IBD_Fecal_Blood[['dia_mentions', \n",
    "                 'dia_mention_keyword', \n",
    "                 'dia_spans']] = IBD_Fecal_Blood.progress_apply(lambda x : find_diarrhea( x['Interval_History'] ), \n",
    "                                                                axis = 1, result_type = 'expand')\n",
    "\n",
    "IBD_Fecal_Blood['stool_fre_mentions'] = IBD_Fecal_Blood.progress_apply(lambda x : find_stool_freq(x['Interval_History']),\n",
    "                                                                       axis = 1 )\n",
    "\n",
    "IBD_Fecal_Blood[['cr_mentions', \n",
    "                 'cr_mention_keyword',\n",
    "                 'cr_spans']] = IBD_Fecal_Blood.progress_apply(lambda x : find_clinical_remission(x['Interval_History']), \n",
    "                                                               axis = 1, result_type = 'expand')\n",
    "\n",
    "IBD_Fecal_Blood[['well_mentions', \n",
    "                 'well_mention_keyword', \n",
    "                 'well_spans']] = IBD_Fecal_Blood.progress_apply(lambda x : find_no_symptoms(x['Interval_History']),\n",
    "                                                                 axis = 1, result_type = 'expand')\n",
    "\n",
    "IBD_Fecal_Blood['Diarrhea_Present'] = IBD_Fecal_Blood.progress_apply(lambda x : get_tense_negation(x['dia_mentions'],\n",
    "                                                                                                   'Diarrhea', \n",
    "                                                                                                   nlp_diarrhea,\n",
    "                                                                                                   x['deid_note_id']), axis = 1 )\n",
    "\n",
    "IBD_Fecal_Blood['stool_range_Present'] = IBD_Fecal_Blood.progress_apply(lambda x : get_tense_negation(x['stool_fre_mentions'],\n",
    "                                                                                                      'range', \n",
    "                                                                                                      nlp_diarrhea,\n",
    "                                                                                                      x['deid_note_id']), axis = 1)\n",
    "\n",
    "IBD_Fecal_Blood['Bristol_Present'] = IBD_Fecal_Blood.progress_apply(lambda x : get_tense_negation(x['stool_fre_mentions'], \n",
    "                                                                                                  'Bristol', \n",
    "                                                                                                  nlp_diarrhea, \n",
    "                                                                                                  x['deid_note_id']), axis = 1)\n",
    "\n",
    "IBD_Fecal_Blood['CR_Present'] = IBD_Fecal_Blood.progress_apply(lambda x : get_tense_negation(x['cr_mentions'], \n",
    "                                                                                             'Clin_Rem', \n",
    "                                                                                             nlp_diarrhea,\n",
    "                                                                                             x['deid_note_id']), axis = 1 ) \n",
    "\n",
    "IBD_Fecal_Blood['Well_Present'] = IBD_Fecal_Blood.progress_apply(lambda x : get_tense_negation(x['well_mentions'], \n",
    "                                                                                               'WELL',\n",
    "                                                                                               nlp_diarrhea,\n",
    "                                                                                               x['deid_note_id']), axis = 1 )"
   ]
  },
  {
   "cell_type": "code",
   "execution_count": 8,
   "metadata": {},
   "outputs": [
    {
     "name": "stderr",
     "output_type": "stream",
     "text": [
      "100%|████████████████████████████████| 4138/4138 [04:06<00:00, 16.78it/s]\n"
     ]
    }
   ],
   "source": [
    "Previous_note['HPI'] = Previous_note['deid_note_id'].map(IBD_Fecal_Blood.set_index('deid_note_id')['HPI'])\n",
    "\n",
    "Previous_note[['dia_mentions', \n",
    "               'dia_mention_keyword', \n",
    "               'dia_spans']] = Previous_note.progress_apply(lambda x : find_diarrhea( x['additions'] ) if x['additions'] != 1 else find_diarrhea(x['HPI']), \n",
    "                                                            axis = 1, result_type = 'expand')"
   ]
  },
  {
   "cell_type": "code",
   "execution_count": 9,
   "metadata": {},
   "outputs": [
    {
     "name": "stderr",
     "output_type": "stream",
     "text": [
      "100%|████████████████████████████████| 4138/4138 [01:59<00:00, 34.68it/s]\n",
      "100%|████████████████████████████████| 4138/4138 [01:05<00:00, 63.06it/s]\n",
      "100%|████████████████████████████████| 4138/4138 [02:43<00:00, 25.35it/s]\n",
      "100%|████████████████████████████████| 4138/4138 [01:37<00:00, 42.53it/s]\n",
      "100%|████████████████████████████████| 4138/4138 [01:47<00:00, 38.40it/s]\n",
      "100%|████████████████████████████████| 4138/4138 [00:50<00:00, 81.54it/s]\n"
     ]
    }
   ],
   "source": [
    "Previous_note['stool_fre_mentions'] = Previous_note.progress_apply(lambda x : find_stool_freq(x['additions']) if x['additions'] != 1 else find_stool_freq(x['HPI']), \n",
    "                                                                   axis = 1 )\n",
    "\n",
    "Previous_note[['cr_mentions', \n",
    "               'cr_mention_keyword',\n",
    "               'cr_spans']] = Previous_note.progress_apply(lambda x : find_clinical_remission(x['additions']) if x['additions'] != 1 else find_clinical_remission(x['HPI']), \n",
    "                                                           axis = 1, result_type = 'expand')\n",
    "\n",
    "Previous_note[['well_mentions', \n",
    "               'well_mention_keyword',\n",
    "               'well_spans']] = Previous_note.progress_apply(lambda x : find_no_symptoms(x['additions']) if x['additions'] != 1 else find_no_symptoms(x['HPI']), \n",
    "                                                             axis = 1, result_type = 'expand')\n",
    "\n",
    "Previous_note['Diarrhea_Present'] = Previous_note.progress_apply(lambda x : get_tense_negation(x['dia_mentions'], \n",
    "                                                                                               'Diarrhea', \n",
    "                                                                                               nlp_diarrhea, \n",
    "                                                                                               x['deid_note_id']), axis = 1 )\n",
    "\n",
    "Previous_note['stool_range_Present'] = Previous_note.progress_apply(lambda x : get_tense_negation(x['stool_fre_mentions'],\n",
    "                                                                                                  'range', \n",
    "                                                                                                  nlp_diarrhea,\n",
    "                                                                                                  x['deid_note_id']), axis = 1 )\n",
    "\n",
    "Previous_note['Bristol_Present'] = Previous_note.progress_apply(lambda x : get_tense_negation(x['stool_fre_mentions'], \n",
    "                                                                                              'Bristol', \n",
    "                                                                                              nlp_diarrhea, \n",
    "                                                                                              x['deid_note_id']), axis = 1)\n"
   ]
  },
  {
   "cell_type": "code",
   "execution_count": 10,
   "metadata": {},
   "outputs": [
    {
     "name": "stderr",
     "output_type": "stream",
     "text": [
      "100%|███████████████████████████████| 4138/4138 [00:13<00:00, 318.17it/s]\n",
      "100%|████████████████████████████████| 4138/4138 [00:46<00:00, 88.23it/s]\n"
     ]
    }
   ],
   "source": [
    "Previous_note['CR_Present'] = Previous_note.progress_apply(lambda x : get_tense_negation(x['cr_mentions'], \n",
    "                                                                                         'Clin_Rem', \n",
    "                                                                                         nlp_diarrhea, \n",
    "                                                                                         x['deid_note_id']), axis = 1 )\n",
    "\n",
    "Previous_note['Well_Present'] = Previous_note.progress_apply(lambda x : get_tense_negation(x['well_mentions'], \n",
    "                                                                                           'WELL', \n",
    "                                                                                           nlp_diarrhea, \n",
    "                                                                                           x['deid_note_id']), axis = 1 )"
   ]
  },
  {
   "cell_type": "code",
   "execution_count": 11,
   "metadata": {},
   "outputs": [],
   "source": [
    "IBD_Fecal_Blood['dia_mention_Previous_note'] = np.nan\n",
    "IBD_Fecal_Blood['dia_mention_Interval_History'] = np.nan\n",
    "\n",
    "IBD_Fecal_Blood['stool_fre_mention_Previous_note'] = np.nan\n",
    "IBD_Fecal_Blood['stool_fre_mention_Interval_History'] = np.nan\n",
    "\n",
    "IBD_Fecal_Blood['bristol_mention_Previous_note'] = np.nan\n",
    "IBD_Fecal_Blood['bristol_mention_Interval_History'] = np.nan\n",
    "\n",
    "IBD_Fecal_Blood['CR_mention_Previous_note'] = np.nan\n",
    "IBD_Fecal_Blood['CR_mention_Interval_History'] = np.nan\n",
    "\n",
    "IBD_Fecal_Blood['well_mention_Previous_note'] = np.nan\n",
    "IBD_Fecal_Blood['well_mention_Interval_History'] = np.nan"
   ]
  },
  {
   "cell_type": "code",
   "execution_count": 12,
   "metadata": {},
   "outputs": [],
   "source": [
    "encode_column(IBD_Fecal_Blood, Previous_note, 'Diarrhea_Present', 'dia_mention_Previous_note', False)\n",
    "encode_column(IBD_Fecal_Blood, IBD_Fecal_Blood, 'Diarrhea_Present', 'dia_mention_Interval_History', True)\n",
    "encode_column(IBD_Fecal_Blood, Previous_note, 'stool_range_Present', 'stool_fre_mention_Previous_note', False)\n",
    "encode_column(IBD_Fecal_Blood, IBD_Fecal_Blood, 'stool_range_Present', 'stool_fre_mention_Interval_History', True)\n",
    "encode_column(IBD_Fecal_Blood, IBD_Fecal_Blood, 'Bristol_Present', 'bristol_mention_Interval_History', True)\n",
    "encode_column(IBD_Fecal_Blood, Previous_note, 'Bristol_Present', 'bristol_mention_Previous_note', False)\n",
    "encode_column(IBD_Fecal_Blood, IBD_Fecal_Blood, 'Well_Present', 'well_mention_Interval_History', True)\n",
    "encode_column(IBD_Fecal_Blood, Previous_note, 'Well_Present', 'well_mention_Previous_note', False)\n",
    "encode_column(IBD_Fecal_Blood, IBD_Fecal_Blood, 'CR_Present', 'CR_mention_Interval_History', True)\n",
    "encode_column(IBD_Fecal_Blood, Previous_note, 'CR_Present', 'CR_mention_Previous_note', False)"
   ]
  },
  {
   "cell_type": "code",
   "execution_count": 14,
   "metadata": {},
   "outputs": [],
   "source": [
    "IBD_Fecal_Blood['Previous_note_id'] = IBD_Fecal_Blood.apply(lambda x : find_previous_note(x['deid_note_id'], \n",
    "                                                                                          IBD_Fecal_Blood), axis = 1)\n",
    "\n",
    "IBD_Fecal_Blood['Interval_History'] = IBD_Fecal_Blood['Interval_History'].apply(lambda x : x if x != 1 else np.nan)\n",
    "\n",
    "IBD_Fecal_Blood['HPI_range'] = IBD_Fecal_Blood.apply(lambda x : get_range(x['HPI_extraction_offset'], \n",
    "                                                                          x['HPI']) if x['HPI'] != 1 else 1, axis = 1)\n",
    "\n",
    "IBD_Fecal_Blood[['dia_mentions_HPI', \n",
    "                 'dia_mentions_HPI_keywords', \n",
    "                 'dia_HPI_spans']] = IBD_Fecal_Blood.apply(lambda x : find_diarrhea(x['HPI']), \n",
    "                                                           result_type = 'expand', axis = 1  )"
   ]
  },
  {
   "cell_type": "code",
   "execution_count": 15,
   "metadata": {},
   "outputs": [
    {
     "name": "stderr",
     "output_type": "stream",
     "text": [
      "100%|██████████████████████████████| 7533/7533 [00:02<00:00, 2584.64it/s]\n",
      "100%|████████████████████████████████| 7533/7533 [04:41<00:00, 26.73it/s]\n",
      "100%|████████████████████████████████| 7533/7533 [02:33<00:00, 48.99it/s]\n",
      "100%|████████████████████████████████| 7533/7533 [06:28<00:00, 19.38it/s]\n",
      "100%|████████████████████████████████| 7533/7533 [03:53<00:00, 32.23it/s]\n",
      "100%|████████████████████████████████| 7533/7533 [05:31<00:00, 22.75it/s]\n",
      "100%|████████████████████████████████| 7533/7533 [02:41<00:00, 46.62it/s]\n"
     ]
    }
   ],
   "source": [
    "IBD_Fecal_Blood[['dia_mentions_HPI', \n",
    "                 'dia_mentions_HPI_keywords',]] = IBD_Fecal_Blood.progress_apply(lambda x : get_mention_location(x['HPI'], \n",
    "                                                                                                                 x['dia_mentions_HPI'], \n",
    "                                                                                                                 x[ 'dia_HPI_spans'], \n",
    "                                                                                                                 x['dia_mentions_HPI_keywords']),\n",
    "                                                                                 result_type = 'expand', axis = 1 )\n",
    "\n",
    "IBD_Fecal_Blood['stool_fre_mentions_HPI'] = IBD_Fecal_Blood.progress_apply(lambda x : find_stool_freq(x['HPI']), axis = 1 )\n",
    "\n",
    "IBD_Fecal_Blood[['cr_mentions_HPI', \n",
    "                 'cr_mention_HPI_keyword',\n",
    "                 'cr_HPI_spans']] = IBD_Fecal_Blood.progress_apply(lambda x : find_clinical_remission(x['HPI']), \n",
    "                                                                   axis = 1, result_type = 'expand')\n",
    "\n",
    "IBD_Fecal_Blood[['well_mentions_HPI', \n",
    "                 'well_mention_HPI_keyword',\n",
    "                 'well_HPI_spans']] = IBD_Fecal_Blood.progress_apply(lambda x : find_no_symptoms(x['HPI']), \n",
    "                                                                     axis = 1, result_type = 'expand')\n",
    "\n",
    "IBD_Fecal_Blood['Dia_Present_Remaining'] = IBD_Fecal_Blood.progress_apply(lambda x : get_tense_negation(x['dia_mentions_HPI'], \n",
    "                                                                                                        'Diarrhea', \n",
    "                                                                                                        nlp_diarrhea, \n",
    "                                                                                                        x['deid_note_id']), axis = 1)\n",
    "\n",
    "IBD_Fecal_Blood['stool_range_Present'] = IBD_Fecal_Blood.progress_apply(lambda x : get_tense_negation(x['stool_fre_mentions_HPI'], \n",
    "                                                                                                      'range', \n",
    "                                                                                                      nlp_diarrhea,\n",
    "                                                                                                      x['deid_note_id']), axis = 1)\n",
    "\n",
    "IBD_Fecal_Blood['Bristol_Present'] = IBD_Fecal_Blood.progress_apply(lambda x : get_tense_negation(x['stool_fre_mentions_HPI'], \n",
    "                                                                                                  'Bristol', \n",
    "                                                                                                  nlp_diarrhea, \n",
    "                                                                                                  x['deid_note_id']), axis = 1)"
   ]
  },
  {
   "cell_type": "code",
   "execution_count": 16,
   "metadata": {},
   "outputs": [
    {
     "name": "stderr",
     "output_type": "stream",
     "text": [
      "100%|███████████████████████████████| 7533/7533 [00:50<00:00, 150.15it/s]\n",
      "100%|████████████████████████████████| 7533/7533 [01:55<00:00, 65.38it/s]\n"
     ]
    }
   ],
   "source": [
    "IBD_Fecal_Blood['CR_Present'] = IBD_Fecal_Blood.progress_apply(lambda x : get_tense_negation(x['cr_mentions_HPI'], \n",
    "                                                                                             'Clin_Rem', \n",
    "                                                                                             nlp_diarrhea, \n",
    "                                                                                             x['deid_note_id']), axis = 1 ) \n",
    "\n",
    "IBD_Fecal_Blood['Well_Present'] = IBD_Fecal_Blood.progress_apply(lambda x : get_tense_negation(x['well_mentions_HPI'],\n",
    "                                                                                               'WELL', \n",
    "                                                                                               nlp_diarrhea,\n",
    "                                                                                               x['deid_note_id']), axis = 1 ) "
   ]
  },
  {
   "cell_type": "code",
   "execution_count": 17,
   "metadata": {},
   "outputs": [],
   "source": [
    "IBD_Fecal_Blood['dia_mention_remaining_notes'] = np.nan\n",
    "IBD_Fecal_Blood['stool_fre_mention_remaining_notes'] = np.nan\n",
    "IBD_Fecal_Blood['bristol_mention_remaining_notes'] = np.nan\n",
    "\n",
    "IBD_Fecal_Blood['CR_mention_remaining_notes'] = np.nan\n",
    "IBD_Fecal_Blood['well_mention_remaining_notes'] = np.nan"
   ]
  },
  {
   "cell_type": "code",
   "execution_count": 18,
   "metadata": {},
   "outputs": [],
   "source": [
    "encode_column(IBD_Fecal_Blood, IBD_Fecal_Blood, 'Dia_Present_Remaining', 'dia_mention_remaining_notes', True)\n",
    "encode_column(IBD_Fecal_Blood, IBD_Fecal_Blood, 'stool_range_Present', 'stool_fre_mention_remaining_notes', True)\n",
    "encode_column(IBD_Fecal_Blood, IBD_Fecal_Blood, 'Bristol_Present', 'bristol_mention_remaining_notes', True)\n",
    "encode_column(IBD_Fecal_Blood, IBD_Fecal_Blood, 'Well_Present', 'well_mention_remaining_notes', True)\n",
    "encode_column(IBD_Fecal_Blood, IBD_Fecal_Blood, 'CR_Present', 'CR_mention_remaining_notes', True)"
   ]
  },
  {
   "cell_type": "code",
   "execution_count": 19,
   "metadata": {},
   "outputs": [],
   "source": [
    "IBD_Fecal_Blood['Dia_ROS'] = np.nan\n",
    "IBD_Fecal_Blood['Dia_Master'] = np.nan\n",
    "IBD_Fecal_Blood['stool_fre_ROS'] = np.nan\n",
    "IBD_Fecal_Blood['Stool_fre_Master'] = np.nan\n",
    "IBD_Fecal_Blood['Bristol_ROS'] = np.nan\n",
    "IBD_Fecal_Blood['Bristol_Master'] = np.nan\n",
    "IBD_Fecal_Blood['CR_ROS'] = np.nan\n",
    "IBD_Fecal_Blood['CR_Master'] = np.nan\n",
    "IBD_Fecal_Blood['Well_ROS'] = np.nan\n",
    "IBD_Fecal_Blood['Well_Master'] = np.nan"
   ]
  },
  {
   "cell_type": "code",
   "execution_count": 21,
   "metadata": {},
   "outputs": [
    {
     "data": {
      "text/plain": [
       "[]"
      ]
     },
     "execution_count": 21,
     "metadata": {},
     "output_type": "execute_result"
    }
   ],
   "source": [
    "consolidate_columns(row_names_dia, 'Dia_Master', IBD_Fecal_Blood)\n",
    "consolidate_columns(row_names_stool_fre, 'Stool_fre_Master', IBD_Fecal_Blood)\n",
    "consolidate_columns(row_names_bristol, 'Bristol_Master', IBD_Fecal_Blood)\n",
    "consolidate_columns(row_names_well, 'Well_Master', IBD_Fecal_Blood)\n",
    "consolidate_columns(row_names_cr, 'CR_Master', IBD_Fecal_Blood)"
   ]
  },
  {
   "cell_type": "code",
   "execution_count": 22,
   "metadata": {},
   "outputs": [
    {
     "name": "stdout",
     "output_type": "stream",
     "text": [
      "Tue Sep 12 02:06:12 2023\n"
     ]
    }
   ],
   "source": [
    "print(ctime())"
   ]
  },
  {
   "cell_type": "code",
   "execution_count": 23,
   "metadata": {},
   "outputs": [],
   "source": [
    "IBD_Fecal_Blood.to_json('data/diarrhea_results.json')"
   ]
  },
  {
   "cell_type": "code",
   "execution_count": null,
   "metadata": {},
   "outputs": [],
   "source": []
  }
 ],
 "metadata": {
  "kernelspec": {
   "display_name": "Python 3",
   "language": "python",
   "name": "python3"
  },
  "language_info": {
   "codemirror_mode": {
    "name": "ipython",
    "version": 3
   },
   "file_extension": ".py",
   "mimetype": "text/x-python",
   "name": "python",
   "nbconvert_exporter": "python",
   "pygments_lexer": "ipython3",
   "version": "3.7.9"
  }
 },
 "nbformat": 4,
 "nbformat_minor": 4
}
